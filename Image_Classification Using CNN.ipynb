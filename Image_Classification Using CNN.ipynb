{
 "cells": [
  {
   "cell_type": "markdown",
   "id": "f2001333",
   "metadata": {},
   "source": [
    "# Image Classification using CNN \n",
    "\n",
    "\n",
    "\n",
    "\n"
   ]
  },
  {
   "cell_type": "markdown",
   "id": "6c32511d",
   "metadata": {},
   "source": [
    "* This is a multi-classification problem.\n",
    "* There are a sum total of 6354 orchid images which can be futrher categorised to 156 classes.\n",
    "* Every orchid image belongs to one and only one image class.\n",
    "* Naive approach: For the training set: Max appering class image count / no.of images in training dataset = 5.23%\n",
    "* First model: In the fisrst model we built a base CNN model. However, the model id facing very high overfitting issue. Max Validation accuracy: 36%\n",
    "* Second model: In the second model we add a pre-trained model to the top of the model we built in the first step. The accuracy levels are similar to the first step. However there still exists some over fitting. Max Validation accuracy: 32.23%\n",
    "* Third model: In the third model, we made the added pre-trained model TRAINABLE and also added a learning rate to it.\n",
    "* The third model validation accuracy sees a slight dip in the. However, this model resolves the issue of overfitting. Max Validation accuracy: 27.29%.\n",
    "* LOSS FUNCTON: sparse_categorical_crossentropy; OPTIMIZER: Adam; METRICS: Accuracy\n",
    "* All the 3 trained models perform better than the Naive approach baseline of 5.23%.\n",
    "* CONCLUSION: Of the 3 models, the third model (trainable pre-trained + learning rate) though has a relatively lower accuracy rate does not suffer from over-fitting. Hence we choose this as the best model for predicting the class of an orchid image.\n"
   ]
  },
  {
   "cell_type": "markdown",
   "id": "e9d480a6",
   "metadata": {},
   "source": [
    "### Importing the required libraries"
   ]
  },
  {
   "cell_type": "code",
   "execution_count": 1,
   "id": "ba2edbb2",
   "metadata": {},
   "outputs": [
    {
     "name": "stderr",
     "output_type": "stream",
     "text": [
      "2022-10-21 22:21:35.939169: I tensorflow/core/platform/cpu_feature_guard.cc:193] This TensorFlow binary is optimized with oneAPI Deep Neural Network Library (oneDNN) to use the following CPU instructions in performance-critical operations:  AVX2 FMA\n",
      "To enable them in other operations, rebuild TensorFlow with the appropriate compiler flags.\n"
     ]
    },
    {
     "name": "stdout",
     "output_type": "stream",
     "text": [
      "2.10.0\n"
     ]
    }
   ],
   "source": [
    "import tensorflow as tf\n",
    "from tensorflow import keras\n",
    "import numpy as np\n",
    "import matplotlib.pyplot as plt\n",
    "from keras.models import Sequential\n",
    "from keras.layers import Dense\n",
    "from keras.layers import Dropout\n",
    "from keras.layers import Flatten\n",
    "from keras.layers import Activation\n",
    "from keras.layers.convolutional import Conv2D\n",
    "from keras.layers.convolutional import MaxPooling2D\n",
    "print(tf.__version__)\n",
    "import os\n",
    "import pandas as pd\n",
    "from keras.layers import BatchNormalization\n",
    "from keras.layers import GlobalAveragePooling2D\n",
    "from keras.preprocessing.image import ImageDataGenerator"
   ]
  },
  {
   "cell_type": "markdown",
   "id": "8650e742",
   "metadata": {},
   "source": [
    "* The dataset exists in a format where all the images (training and validation) are in a single folder and we have 2 separate text files training and validation respectively which provide information on which image belongs to which class. \n",
    "* We will be generating dataframes from the text files containing the filenames column and a column which has the class names and directly read the images from the directory with their respective class names mapped."
   ]
  },
  {
   "cell_type": "markdown",
   "id": "7da40737",
   "metadata": {},
   "source": [
    "### Generating Dataframes "
   ]
  },
  {
   "cell_type": "code",
   "execution_count": 2,
   "id": "ed2736f0",
   "metadata": {},
   "outputs": [],
   "source": [
    "training_df = pd.read_csv('/Users/Manisha/Documents/BAN 676 - Deep Learning/Assignment2/Orchid Flowers Dataset-v1.1/Species_Classifier/Training_Data_for_Species.csv', header = None)"
   ]
  },
  {
   "cell_type": "code",
   "execution_count": 3,
   "id": "94947791",
   "metadata": {},
   "outputs": [
    {
     "data": {
      "text/html": [
       "<div>\n",
       "<style scoped>\n",
       "    .dataframe tbody tr th:only-of-type {\n",
       "        vertical-align: middle;\n",
       "    }\n",
       "\n",
       "    .dataframe tbody tr th {\n",
       "        vertical-align: top;\n",
       "    }\n",
       "\n",
       "    .dataframe thead th {\n",
       "        text-align: right;\n",
       "    }\n",
       "</style>\n",
       "<table border=\"1\" class=\"dataframe\">\n",
       "  <thead>\n",
       "    <tr style=\"text-align: right;\">\n",
       "      <th></th>\n",
       "      <th>0</th>\n",
       "      <th>1</th>\n",
       "    </tr>\n",
       "  </thead>\n",
       "  <tbody>\n",
       "    <tr>\n",
       "      <th>0</th>\n",
       "      <td>1.jpg</td>\n",
       "      <td>1</td>\n",
       "    </tr>\n",
       "    <tr>\n",
       "      <th>1</th>\n",
       "      <td>2.jpg</td>\n",
       "      <td>1</td>\n",
       "    </tr>\n",
       "    <tr>\n",
       "      <th>2</th>\n",
       "      <td>3.jpg</td>\n",
       "      <td>1</td>\n",
       "    </tr>\n",
       "    <tr>\n",
       "      <th>3</th>\n",
       "      <td>4.jpg</td>\n",
       "      <td>1</td>\n",
       "    </tr>\n",
       "    <tr>\n",
       "      <th>4</th>\n",
       "      <td>5.jpg</td>\n",
       "      <td>1</td>\n",
       "    </tr>\n",
       "  </tbody>\n",
       "</table>\n",
       "</div>"
      ],
      "text/plain": [
       "       0  1\n",
       "0  1.jpg  1\n",
       "1  2.jpg  1\n",
       "2  3.jpg  1\n",
       "3  4.jpg  1\n",
       "4  5.jpg  1"
      ]
     },
     "execution_count": 3,
     "metadata": {},
     "output_type": "execute_result"
    }
   ],
   "source": [
    "training_df.head()"
   ]
  },
  {
   "cell_type": "code",
   "execution_count": 4,
   "id": "0a7521c2",
   "metadata": {},
   "outputs": [],
   "source": [
    "training_df.columns =['train_image', 'Class']"
   ]
  },
  {
   "cell_type": "code",
   "execution_count": 5,
   "id": "8a76b861",
   "metadata": {},
   "outputs": [],
   "source": [
    "training_df['train_image'] = training_df['train_image'].astype('string')\n",
    "training_df['Class'] = training_df['Class'].astype('string')"
   ]
  },
  {
   "cell_type": "code",
   "execution_count": 6,
   "id": "9902330d",
   "metadata": {},
   "outputs": [],
   "source": [
    "validation_df = pd.read_csv('/Users/Manisha/Documents/BAN 676 - Deep Learning/Assignment2/Orchid Flowers Dataset-v1.1/Species_Classifier/Validation_Data_for_Species.csv',header =None)"
   ]
  },
  {
   "cell_type": "code",
   "execution_count": 7,
   "id": "58166236",
   "metadata": {},
   "outputs": [
    {
     "data": {
      "text/html": [
       "<div>\n",
       "<style scoped>\n",
       "    .dataframe tbody tr th:only-of-type {\n",
       "        vertical-align: middle;\n",
       "    }\n",
       "\n",
       "    .dataframe tbody tr th {\n",
       "        vertical-align: top;\n",
       "    }\n",
       "\n",
       "    .dataframe thead th {\n",
       "        text-align: right;\n",
       "    }\n",
       "</style>\n",
       "<table border=\"1\" class=\"dataframe\">\n",
       "  <thead>\n",
       "    <tr style=\"text-align: right;\">\n",
       "      <th></th>\n",
       "      <th>0</th>\n",
       "      <th>1</th>\n",
       "    </tr>\n",
       "  </thead>\n",
       "  <tbody>\n",
       "    <tr>\n",
       "      <th>0</th>\n",
       "      <td>25.jpg</td>\n",
       "      <td>1</td>\n",
       "    </tr>\n",
       "    <tr>\n",
       "      <th>1</th>\n",
       "      <td>26.jpg</td>\n",
       "      <td>1</td>\n",
       "    </tr>\n",
       "    <tr>\n",
       "      <th>2</th>\n",
       "      <td>7032.jpg</td>\n",
       "      <td>1</td>\n",
       "    </tr>\n",
       "    <tr>\n",
       "      <th>3</th>\n",
       "      <td>7033.jpg</td>\n",
       "      <td>1</td>\n",
       "    </tr>\n",
       "    <tr>\n",
       "      <th>4</th>\n",
       "      <td>7034.jpg</td>\n",
       "      <td>1</td>\n",
       "    </tr>\n",
       "  </tbody>\n",
       "</table>\n",
       "</div>"
      ],
      "text/plain": [
       "          0  1\n",
       "0    25.jpg  1\n",
       "1    26.jpg  1\n",
       "2  7032.jpg  1\n",
       "3  7033.jpg  1\n",
       "4  7034.jpg  1"
      ]
     },
     "execution_count": 7,
     "metadata": {},
     "output_type": "execute_result"
    }
   ],
   "source": [
    "validation_df.head()"
   ]
  },
  {
   "cell_type": "code",
   "execution_count": 8,
   "id": "a809fc44",
   "metadata": {},
   "outputs": [],
   "source": [
    "validation_df.columns =['valid_image', 'Class']"
   ]
  },
  {
   "cell_type": "code",
   "execution_count": 9,
   "id": "60a429a3",
   "metadata": {},
   "outputs": [],
   "source": [
    "validation_df['valid_image'] = validation_df['valid_image'].astype('string')\n",
    "validation_df['Class'] = validation_df['Class'].astype('string')"
   ]
  },
  {
   "cell_type": "code",
   "execution_count": 10,
   "id": "21507f8d",
   "metadata": {},
   "outputs": [
    {
     "name": "stdout",
     "output_type": "stream",
     "text": [
      "(5119, 2)\n",
      "(1235, 2)\n"
     ]
    }
   ],
   "source": [
    "print(training_df.shape)\n",
    "print(validation_df.shape)"
   ]
  },
  {
   "cell_type": "markdown",
   "id": "3be68b3a",
   "metadata": {},
   "source": [
    "### Using ImageDataGenerator with flow_from_dataframe to load images"
   ]
  },
  {
   "cell_type": "code",
   "execution_count": 11,
   "id": "75bed65c",
   "metadata": {},
   "outputs": [],
   "source": [
    "train_datagen = ImageDataGenerator(\n",
    "        rescale=1 / 255.0,\n",
    "        rotation_range=20,\n",
    "        zoom_range=0.05,\n",
    "        width_shift_range=0.05,\n",
    "        height_shift_range=0.05,\n",
    "        shear_range=0.05,\n",
    "        horizontal_flip=True)"
   ]
  },
  {
   "cell_type": "code",
   "execution_count": 12,
   "id": "ee519544",
   "metadata": {},
   "outputs": [],
   "source": [
    "valid_datagen = ImageDataGenerator(rescale=1./255)"
   ]
  },
  {
   "cell_type": "code",
   "execution_count": 13,
   "id": "fc780f39",
   "metadata": {},
   "outputs": [
    {
     "name": "stdout",
     "output_type": "stream",
     "text": [
      "Found 5119 validated image filenames belonging to 156 classes.\n",
      "Found 1235 validated image filenames belonging to 156 classes.\n"
     ]
    }
   ],
   "source": [
    "src_path = '/Users/Manisha/Documents/BAN 676 - Deep Learning/Assignment2/Orchid Flowers Dataset-v1.1/Orchid_Images'\n",
    "\n",
    "train_generator=train_datagen.flow_from_dataframe(\n",
    "dataframe=training_df,\n",
    "directory= src_path,\n",
    "x_col='train_image',\n",
    "y_col='Class',\n",
    "subset=None,\n",
    "batch_size=32,\n",
    "seed=42,\n",
    "shuffle=True,\n",
    "class_mode=\"sparse\",\n",
    "target_size=(32,32))\n",
    "\n",
    "valid_generator=valid_datagen.flow_from_dataframe(\n",
    "dataframe=validation_df,\n",
    "directory=src_path,\n",
    "x_col='valid_image',\n",
    "y_col='Class',\n",
    "subset=None,\n",
    "batch_size=32,\n",
    "seed=42,\n",
    "shuffle=True,\n",
    "class_mode=\"sparse\",\n",
    "target_size=(32,32))"
   ]
  },
  {
   "cell_type": "markdown",
   "id": "268abb53",
   "metadata": {},
   "source": [
    "### Naive Approach to compare the performance on CNN model."
   ]
  },
  {
   "cell_type": "code",
   "execution_count": 14,
   "id": "3b5c1f0c",
   "metadata": {},
   "outputs": [
    {
     "data": {
      "text/plain": [
       "{'1': 24,\n",
       " '10': 12,\n",
       " '100': 107,\n",
       " '101': 3,\n",
       " '102': 2,\n",
       " '103': 20,\n",
       " '104': 21,\n",
       " '105': 9,\n",
       " '106': 98,\n",
       " '107': 46,\n",
       " '108': 37,\n",
       " '109': 9,\n",
       " '11': 179,\n",
       " '110': 92,\n",
       " '111': 28,\n",
       " '112': 10,\n",
       " '113': 14,\n",
       " '114': 21,\n",
       " '115': 16,\n",
       " '116': 20,\n",
       " '117': 74,\n",
       " '118': 37,\n",
       " '119': 26,\n",
       " '12': 122,\n",
       " '120': 12,\n",
       " '121': 3,\n",
       " '122': 3,\n",
       " '123': 10,\n",
       " '124': 4,\n",
       " '125': 121,\n",
       " '126': 12,\n",
       " '127': 17,\n",
       " '128': 85,\n",
       " '129': 64,\n",
       " '13': 29,\n",
       " '130': 31,\n",
       " '131': 8,\n",
       " '132': 9,\n",
       " '133': 82,\n",
       " '134': 10,\n",
       " '135': 45,\n",
       " '136': 4,\n",
       " '137': 18,\n",
       " '138': 3,\n",
       " '139': 32,\n",
       " '14': 2,\n",
       " '140': 4,\n",
       " '141': 61,\n",
       " '142': 10,\n",
       " '143': 14,\n",
       " '144': 10,\n",
       " '145': 80,\n",
       " '146': 7,\n",
       " '147': 5,\n",
       " '148': 8,\n",
       " '149': 12,\n",
       " '15': 16,\n",
       " '150': 11,\n",
       " '151': 36,\n",
       " '152': 4,\n",
       " '153': 4,\n",
       " '154': 5,\n",
       " '155': 12,\n",
       " '156': 37,\n",
       " '16': 3,\n",
       " '17': 24,\n",
       " '18': 9,\n",
       " '19': 176,\n",
       " '2': 11,\n",
       " '20': 42,\n",
       " '21': 20,\n",
       " '22': 78,\n",
       " '23': 101,\n",
       " '24': 46,\n",
       " '25': 6,\n",
       " '26': 21,\n",
       " '27': 239,\n",
       " '28': 49,\n",
       " '29': 29,\n",
       " '3': 77,\n",
       " '30': 31,\n",
       " '31': 25,\n",
       " '32': 45,\n",
       " '33': 268,\n",
       " '34': 15,\n",
       " '35': 104,\n",
       " '36': 5,\n",
       " '37': 12,\n",
       " '38': 3,\n",
       " '39': 15,\n",
       " '4': 2,\n",
       " '40': 1,\n",
       " '41': 18,\n",
       " '42': 2,\n",
       " '43': 2,\n",
       " '44': 1,\n",
       " '45': 60,\n",
       " '46': 8,\n",
       " '47': 13,\n",
       " '48': 15,\n",
       " '49': 12,\n",
       " '5': 19,\n",
       " '50': 109,\n",
       " '51': 68,\n",
       " '52': 83,\n",
       " '53': 138,\n",
       " '54': 24,\n",
       " '55': 7,\n",
       " '56': 106,\n",
       " '57': 1,\n",
       " '58': 11,\n",
       " '59': 64,\n",
       " '6': 3,\n",
       " '60': 56,\n",
       " '61': 35,\n",
       " '62': 72,\n",
       " '63': 20,\n",
       " '64': 112,\n",
       " '65': 15,\n",
       " '66': 9,\n",
       " '67': 17,\n",
       " '68': 12,\n",
       " '69': 5,\n",
       " '7': 18,\n",
       " '70': 8,\n",
       " '71': 2,\n",
       " '72': 36,\n",
       " '73': 24,\n",
       " '74': 9,\n",
       " '75': 14,\n",
       " '76': 7,\n",
       " '77': 8,\n",
       " '78': 26,\n",
       " '79': 15,\n",
       " '8': 21,\n",
       " '80': 14,\n",
       " '81': 24,\n",
       " '82': 3,\n",
       " '83': 1,\n",
       " '84': 3,\n",
       " '85': 1,\n",
       " '86': 1,\n",
       " '87': 13,\n",
       " '88': 1,\n",
       " '89': 19,\n",
       " '9': 1,\n",
       " '90': 8,\n",
       " '91': 41,\n",
       " '92': 42,\n",
       " '93': 16,\n",
       " '94': 30,\n",
       " '95': 28,\n",
       " '96': 80,\n",
       " '97': 11,\n",
       " '98': 2,\n",
       " '99': 51}"
      ]
     },
     "execution_count": 14,
     "metadata": {},
     "output_type": "execute_result"
    }
   ],
   "source": [
    "unique, counts = np.unique(training_df[\"Class\"], return_counts = True)\n",
    "dict(zip(unique, counts))"
   ]
  },
  {
   "cell_type": "code",
   "execution_count": 15,
   "id": "9cbbcf5b",
   "metadata": {},
   "outputs": [
    {
     "data": {
      "text/plain": [
       "0.05235397538581754"
      ]
     },
     "execution_count": 15,
     "metadata": {},
     "output_type": "execute_result"
    }
   ],
   "source": [
    "max(training_df['Class'].value_counts())/len(training_df['Class'])"
   ]
  },
  {
   "cell_type": "markdown",
   "id": "5e56aa73",
   "metadata": {},
   "source": [
    "### Model 1: Base CNN Model "
   ]
  },
  {
   "cell_type": "code",
   "execution_count": 18,
   "id": "9be6fff3",
   "metadata": {},
   "outputs": [],
   "source": [
    "    model = Sequential()\n",
    "    model.add(Conv2D(64, (3, 3), padding='same', input_shape=(32,32,3)))\n",
    "    model.add(BatchNormalization())\n",
    "    model.add(Activation('relu'))\n",
    "    model.add(MaxPooling2D(pool_size=(2, 2)))\n",
    "    model.add(Dropout(0.25))\n",
    "    \n",
    "    model.add(Flatten())\n",
    "    model.add(Dense(512))\n",
    "    model.add(BatchNormalization())\n",
    "    model.add(Activation('relu'))\n",
    "    model.add(Dense(156))\n",
    "    model.add(Activation('softmax'))"
   ]
  },
  {
   "cell_type": "code",
   "execution_count": 19,
   "id": "18cd63d6",
   "metadata": {},
   "outputs": [
    {
     "name": "stdout",
     "output_type": "stream",
     "text": [
      "Model: \"sequential_1\"\n",
      "_________________________________________________________________\n",
      " Layer (type)                Output Shape              Param #   \n",
      "=================================================================\n",
      " conv2d_1 (Conv2D)           (None, 32, 32, 64)        1792      \n",
      "                                                                 \n",
      " batch_normalization_2 (Batc  (None, 32, 32, 64)       256       \n",
      " hNormalization)                                                 \n",
      "                                                                 \n",
      " activation_3 (Activation)   (None, 32, 32, 64)        0         \n",
      "                                                                 \n",
      " max_pooling2d_1 (MaxPooling  (None, 16, 16, 64)       0         \n",
      " 2D)                                                             \n",
      "                                                                 \n",
      " dropout_1 (Dropout)         (None, 16, 16, 64)        0         \n",
      "                                                                 \n",
      " flatten_1 (Flatten)         (None, 16384)             0         \n",
      "                                                                 \n",
      " dense_2 (Dense)             (None, 512)               8389120   \n",
      "                                                                 \n",
      " batch_normalization_3 (Batc  (None, 512)              2048      \n",
      " hNormalization)                                                 \n",
      "                                                                 \n",
      " activation_4 (Activation)   (None, 512)               0         \n",
      "                                                                 \n",
      " dense_3 (Dense)             (None, 156)               80028     \n",
      "                                                                 \n",
      " activation_5 (Activation)   (None, 156)               0         \n",
      "                                                                 \n",
      "=================================================================\n",
      "Total params: 8,473,244\n",
      "Trainable params: 8,472,092\n",
      "Non-trainable params: 1,152\n",
      "_________________________________________________________________\n"
     ]
    }
   ],
   "source": [
    "model.summary()"
   ]
  },
  {
   "cell_type": "code",
   "execution_count": 20,
   "id": "e5c44d22",
   "metadata": {},
   "outputs": [],
   "source": [
    "model.compile(optimizer=\"adam\", \n",
    "              loss='sparse_categorical_crossentropy',\n",
    "              metrics=['accuracy'])"
   ]
  },
  {
   "cell_type": "code",
   "execution_count": 21,
   "id": "b5d713f8",
   "metadata": {},
   "outputs": [
    {
     "name": "stderr",
     "output_type": "stream",
     "text": [
      "/var/folders/pd/gpgs3lh15wx458zc6_s0w4100000gp/T/ipykernel_69257/424017173.py:1: UserWarning: `Model.fit_generator` is deprecated and will be removed in a future version. Please use `Model.fit`, which supports generators.\n",
      "  history = model.fit_generator(generator=train_generator,\n"
     ]
    },
    {
     "name": "stdout",
     "output_type": "stream",
     "text": [
      "Epoch 1/30\n",
      "160/160 [==============================] - 44s 271ms/step - loss: 3.9021 - accuracy: 0.1721 - val_loss: 5.3536 - val_accuracy: 0.0413\n",
      "Epoch 2/30\n",
      "160/160 [==============================] - 37s 234ms/step - loss: 3.0387 - accuracy: 0.2754 - val_loss: 5.1729 - val_accuracy: 0.0704\n",
      "Epoch 3/30\n",
      "160/160 [==============================] - 35s 217ms/step - loss: 2.7190 - accuracy: 0.3411 - val_loss: 3.8384 - val_accuracy: 0.1344\n",
      "Epoch 4/30\n",
      "160/160 [==============================] - 35s 216ms/step - loss: 2.4675 - accuracy: 0.3887 - val_loss: 3.2805 - val_accuracy: 0.2721\n",
      "Epoch 5/30\n",
      "160/160 [==============================] - 36s 226ms/step - loss: 2.2865 - accuracy: 0.4149 - val_loss: 3.3895 - val_accuracy: 0.2964\n",
      "Epoch 6/30\n",
      "160/160 [==============================] - 33s 207ms/step - loss: 2.1075 - accuracy: 0.4536 - val_loss: 3.6945 - val_accuracy: 0.2745\n",
      "Epoch 7/30\n",
      "160/160 [==============================] - 31s 196ms/step - loss: 1.9897 - accuracy: 0.4800 - val_loss: 3.7796 - val_accuracy: 0.2785\n",
      "Epoch 8/30\n",
      "160/160 [==============================] - 32s 197ms/step - loss: 1.8576 - accuracy: 0.5093 - val_loss: 3.6161 - val_accuracy: 0.2826\n",
      "Epoch 9/30\n",
      "160/160 [==============================] - 33s 204ms/step - loss: 1.7209 - accuracy: 0.5306 - val_loss: 3.4311 - val_accuracy: 0.3158\n",
      "Epoch 10/30\n",
      "160/160 [==============================] - 32s 198ms/step - loss: 1.6230 - accuracy: 0.5626 - val_loss: 4.6033 - val_accuracy: 0.2445\n",
      "Epoch 11/30\n",
      "160/160 [==============================] - 31s 194ms/step - loss: 1.5317 - accuracy: 0.5782 - val_loss: 3.5391 - val_accuracy: 0.3126\n",
      "Epoch 12/30\n",
      "160/160 [==============================] - 33s 205ms/step - loss: 1.4068 - accuracy: 0.6210 - val_loss: 4.3515 - val_accuracy: 0.2567\n",
      "Epoch 13/30\n",
      "160/160 [==============================] - 36s 227ms/step - loss: 1.3469 - accuracy: 0.6312 - val_loss: 3.8415 - val_accuracy: 0.2964\n",
      "Epoch 14/30\n",
      "160/160 [==============================] - 33s 208ms/step - loss: 1.2926 - accuracy: 0.6343 - val_loss: 3.3088 - val_accuracy: 0.3684\n",
      "Epoch 15/30\n",
      "160/160 [==============================] - 33s 204ms/step - loss: 1.1981 - accuracy: 0.6712 - val_loss: 3.4757 - val_accuracy: 0.3433\n",
      "Epoch 16/30\n",
      "160/160 [==============================] - 32s 201ms/step - loss: 1.1168 - accuracy: 0.6888 - val_loss: 3.8620 - val_accuracy: 0.3514\n",
      "Epoch 17/30\n",
      "160/160 [==============================] - 59s 368ms/step - loss: 1.0532 - accuracy: 0.7001 - val_loss: 4.1054 - val_accuracy: 0.3093\n",
      "Epoch 18/30\n",
      "160/160 [==============================] - 41s 255ms/step - loss: 1.0154 - accuracy: 0.7185 - val_loss: 4.3053 - val_accuracy: 0.2899\n",
      "Epoch 19/30\n",
      "160/160 [==============================] - 34s 215ms/step - loss: 0.9570 - accuracy: 0.7265 - val_loss: 4.0744 - val_accuracy: 0.3304\n",
      "Epoch 20/30\n",
      "160/160 [==============================] - 42s 264ms/step - loss: 0.9140 - accuracy: 0.7410 - val_loss: 3.8737 - val_accuracy: 0.3619\n",
      "Epoch 21/30\n",
      "160/160 [==============================] - 44s 273ms/step - loss: 0.8663 - accuracy: 0.7529 - val_loss: 4.2863 - val_accuracy: 0.3304\n",
      "Epoch 22/30\n",
      "160/160 [==============================] - 40s 249ms/step - loss: 0.8058 - accuracy: 0.7701 - val_loss: 4.7656 - val_accuracy: 0.3206\n",
      "Epoch 23/30\n",
      "160/160 [==============================] - 36s 222ms/step - loss: 0.7871 - accuracy: 0.7757 - val_loss: 4.3728 - val_accuracy: 0.3215\n",
      "Epoch 24/30\n",
      "160/160 [==============================] - 31s 195ms/step - loss: 0.7432 - accuracy: 0.7935 - val_loss: 4.9390 - val_accuracy: 0.2810\n",
      "Epoch 25/30\n",
      "160/160 [==============================] - 32s 202ms/step - loss: 0.7253 - accuracy: 0.7877 - val_loss: 4.8152 - val_accuracy: 0.3028\n",
      "Epoch 26/30\n",
      "160/160 [==============================] - 33s 208ms/step - loss: 0.7043 - accuracy: 0.7939 - val_loss: 4.4170 - val_accuracy: 0.3279\n",
      "Epoch 27/30\n",
      "160/160 [==============================] - 31s 196ms/step - loss: 0.6605 - accuracy: 0.8097 - val_loss: 5.3900 - val_accuracy: 0.2891\n",
      "Epoch 28/30\n",
      "160/160 [==============================] - 31s 195ms/step - loss: 0.6274 - accuracy: 0.8152 - val_loss: 4.8865 - val_accuracy: 0.3271\n",
      "Epoch 29/30\n",
      "160/160 [==============================] - 43s 272ms/step - loss: 0.5934 - accuracy: 0.8295 - val_loss: 4.5041 - val_accuracy: 0.3466\n",
      "Epoch 30/30\n",
      "160/160 [==============================] - 33s 207ms/step - loss: 0.5841 - accuracy: 0.8295 - val_loss: 4.5344 - val_accuracy: 0.3312\n"
     ]
    }
   ],
   "source": [
    "history = model.fit_generator(generator=train_generator,\n",
    "                    validation_data=valid_generator,\n",
    "                    epochs=30)"
   ]
  },
  {
   "cell_type": "code",
   "execution_count": 22,
   "id": "a1ec4d3b",
   "metadata": {
    "scrolled": true
   },
   "outputs": [
    {
     "data": {
      "image/png": "[encoded data removed]",
      "text/plain": [
       "<Figure size 432x288 with 1 Axes>"
      ]
     },
     "metadata": {
      "needs_background": "light"
     },
     "output_type": "display_data"
    }
   ],
   "source": [
    "def plot_history(history):\n",
    "  plt.figure()\n",
    "  plt.xlabel('Epoch')\n",
    "  plt.ylabel('Accuracy')\n",
    "  plt.plot(history.epoch, np.array(history.history['accuracy']),\n",
    "           label='Train accuracy')\n",
    "  plt.plot(history.epoch, np.array(history.history['val_accuracy']),\n",
    "           label = 'Val accuracy')\n",
    "  plt.legend()\n",
    "  plt.ylim([0, 1])\n",
    "\n",
    "plot_history(history)"
   ]
  },
  {
   "cell_type": "code",
   "execution_count": 24,
   "id": "2bc1b592",
   "metadata": {},
   "outputs": [
    {
     "data": {
      "image/png": "[encoded data removed]",
      "text/plain": [
       "<Figure size 432x288 with 1 Axes>"
      ]
     },
     "metadata": {
      "needs_background": "light"
     },
     "output_type": "display_data"
    }
   ],
   "source": [
    "def plot_history(history):\n",
    "  plt.figure()\n",
    "  plt.xlabel('Epoch')\n",
    "  plt.ylabel('Loss')\n",
    "  plt.plot(history.epoch, np.array(history.history['loss']),\n",
    "           label='Train loss')\n",
    "  plt.plot(history.epoch, np.array(history.history['val_loss']),\n",
    "           label = 'Val loss')\n",
    "  plt.legend()\n",
    "  plt.ylim([0, 10])\n",
    "\n",
    "plot_history(history)"
   ]
  },
  {
   "cell_type": "markdown",
   "id": "dc1a100d",
   "metadata": {},
   "source": [
    "### Model 2: Adding pre-trained model (DenseNet121) on top of the first base model."
   ]
  },
  {
   "cell_type": "code",
   "execution_count": 43,
   "id": "5f397d3f",
   "metadata": {},
   "outputs": [],
   "source": [
    "base_model = keras.applications.DenseNet121(\n",
    "    weights='imagenet',  # Load weights pre-trained on ImageNet.\n",
    "    input_shape=(32, 32, 3),\n",
    "    include_top=False)  # Do not include the ImageNet classifier at the top.\n",
    "\n",
    "base_model.trainable = False\n",
    "ft_model = Sequential()\n",
    "ft_model.add(base_model)\n",
    "ft_model.add(GlobalAveragePooling2D())\n",
    "ft_model.add(Dense(512))\n",
    "ft_model.add(Activation('relu'))\n",
    "ft_model.add(Dropout(0.5))\n",
    "ft_model.add(Dense(156))\n",
    "ft_model.add(Activation('softmax'))"
   ]
  },
  {
   "cell_type": "code",
   "execution_count": 44,
   "id": "163dbb5c",
   "metadata": {},
   "outputs": [
    {
     "name": "stdout",
     "output_type": "stream",
     "text": [
      "Model: \"sequential_6\"\n",
      "_________________________________________________________________\n",
      " Layer (type)                Output Shape              Param #   \n",
      "=================================================================\n",
      " densenet121 (Functional)    (None, 1, 1, 1024)        7037504   \n",
      "                                                                 \n",
      " global_average_pooling2d (G  (None, 1024)             0         \n",
      " lobalAveragePooling2D)                                          \n",
      "                                                                 \n",
      " dense_14 (Dense)            (None, 512)               524800    \n",
      "                                                                 \n",
      " activation_16 (Activation)  (None, 512)               0         \n",
      "                                                                 \n",
      " dropout_8 (Dropout)         (None, 512)               0         \n",
      "                                                                 \n",
      " dense_15 (Dense)            (None, 156)               80028     \n",
      "                                                                 \n",
      " activation_17 (Activation)  (None, 156)               0         \n",
      "                                                                 \n",
      "=================================================================\n",
      "Total params: 7,642,332\n",
      "Trainable params: 604,828\n",
      "Non-trainable params: 7,037,504\n",
      "_________________________________________________________________\n"
     ]
    }
   ],
   "source": [
    "ft_model.summary()"
   ]
  },
  {
   "cell_type": "code",
   "execution_count": 45,
   "id": "d57318b8",
   "metadata": {},
   "outputs": [],
   "source": [
    "ft_model.compile(optimizer=\"adam\", \n",
    "              loss='sparse_categorical_crossentropy',\n",
    "              metrics=['accuracy'])"
   ]
  },
  {
   "cell_type": "code",
   "execution_count": 46,
   "id": "d103501f",
   "metadata": {},
   "outputs": [
    {
     "name": "stderr",
     "output_type": "stream",
     "text": [
      "/var/folders/pd/gpgs3lh15wx458zc6_s0w4100000gp/T/ipykernel_69257/218963487.py:1: UserWarning: `Model.fit_generator` is deprecated and will be removed in a future version. Please use `Model.fit`, which supports generators.\n",
      "  history= ft_model.fit_generator(generator=train_generator,\n"
     ]
    },
    {
     "name": "stdout",
     "output_type": "stream",
     "text": [
      "Epoch 1/30\n",
      "160/160 [==============================] - 54s 300ms/step - loss: 4.3288 - accuracy: 0.1129 - val_loss: 3.7798 - val_accuracy: 0.1822\n",
      "Epoch 2/30\n",
      "160/160 [==============================] - 43s 267ms/step - loss: 3.6836 - accuracy: 0.1850 - val_loss: 3.5129 - val_accuracy: 0.2211\n",
      "Epoch 3/30\n",
      "160/160 [==============================] - 42s 263ms/step - loss: 3.3996 - accuracy: 0.2284 - val_loss: 3.3236 - val_accuracy: 0.2607\n",
      "Epoch 4/30\n",
      "160/160 [==============================] - 42s 263ms/step - loss: 3.2140 - accuracy: 0.2491 - val_loss: 3.2315 - val_accuracy: 0.2672\n",
      "Epoch 5/30\n",
      "160/160 [==============================] - 43s 269ms/step - loss: 3.0965 - accuracy: 0.2551 - val_loss: 3.1498 - val_accuracy: 0.2818\n",
      "Epoch 6/30\n",
      "160/160 [==============================] - 40s 248ms/step - loss: 2.9803 - accuracy: 0.2852 - val_loss: 3.1167 - val_accuracy: 0.2899\n",
      "Epoch 7/30\n",
      "160/160 [==============================] - 39s 246ms/step - loss: 2.8784 - accuracy: 0.3006 - val_loss: 3.1074 - val_accuracy: 0.2866\n",
      "Epoch 8/30\n",
      "160/160 [==============================] - 40s 250ms/step - loss: 2.7933 - accuracy: 0.3122 - val_loss: 3.0797 - val_accuracy: 0.2883\n",
      "Epoch 9/30\n",
      "160/160 [==============================] - 41s 257ms/step - loss: 2.7239 - accuracy: 0.3221 - val_loss: 3.0701 - val_accuracy: 0.2996\n",
      "Epoch 10/30\n",
      "160/160 [==============================] - 40s 253ms/step - loss: 2.6564 - accuracy: 0.3321 - val_loss: 3.0907 - val_accuracy: 0.2834\n",
      "Epoch 11/30\n",
      "160/160 [==============================] - 37s 228ms/step - loss: 2.5972 - accuracy: 0.3380 - val_loss: 3.0652 - val_accuracy: 0.3004\n",
      "Epoch 12/30\n",
      "160/160 [==============================] - 49s 306ms/step - loss: 2.5364 - accuracy: 0.3475 - val_loss: 3.0453 - val_accuracy: 0.3020\n",
      "Epoch 13/30\n",
      "160/160 [==============================] - 39s 242ms/step - loss: 2.5030 - accuracy: 0.3542 - val_loss: 3.0052 - val_accuracy: 0.3101\n",
      "Epoch 14/30\n",
      "160/160 [==============================] - 38s 235ms/step - loss: 2.4455 - accuracy: 0.3706 - val_loss: 3.0293 - val_accuracy: 0.3109\n",
      "Epoch 15/30\n",
      "160/160 [==============================] - 37s 230ms/step - loss: 2.4165 - accuracy: 0.3757 - val_loss: 3.0303 - val_accuracy: 0.3126\n",
      "Epoch 16/30\n",
      "160/160 [==============================] - 38s 238ms/step - loss: 2.3735 - accuracy: 0.3743 - val_loss: 3.0386 - val_accuracy: 0.3028\n",
      "Epoch 17/30\n",
      "160/160 [==============================] - 38s 240ms/step - loss: 2.3361 - accuracy: 0.3876 - val_loss: 3.0693 - val_accuracy: 0.3077\n",
      "Epoch 18/30\n",
      "160/160 [==============================] - 39s 246ms/step - loss: 2.3076 - accuracy: 0.3925 - val_loss: 2.9918 - val_accuracy: 0.3117\n",
      "Epoch 19/30\n",
      "160/160 [==============================] - 38s 237ms/step - loss: 2.2845 - accuracy: 0.3946 - val_loss: 3.0126 - val_accuracy: 0.3061\n",
      "Epoch 20/30\n",
      "160/160 [==============================] - 35s 221ms/step - loss: 2.2079 - accuracy: 0.4155 - val_loss: 3.0543 - val_accuracy: 0.3126\n",
      "Epoch 21/30\n",
      "160/160 [==============================] - 34s 213ms/step - loss: 2.2034 - accuracy: 0.4118 - val_loss: 3.0428 - val_accuracy: 0.3142\n",
      "Epoch 22/30\n",
      "160/160 [==============================] - 38s 238ms/step - loss: 2.1901 - accuracy: 0.4042 - val_loss: 3.0764 - val_accuracy: 0.3004\n",
      "Epoch 23/30\n",
      "160/160 [==============================] - 41s 259ms/step - loss: 2.1524 - accuracy: 0.4296 - val_loss: 3.0845 - val_accuracy: 0.3028\n",
      "Epoch 24/30\n",
      "160/160 [==============================] - 40s 249ms/step - loss: 2.1477 - accuracy: 0.4194 - val_loss: 3.1158 - val_accuracy: 0.3085\n",
      "Epoch 25/30\n",
      "160/160 [==============================] - 41s 258ms/step - loss: 2.0948 - accuracy: 0.4409 - val_loss: 3.1092 - val_accuracy: 0.3190\n",
      "Epoch 26/30\n",
      "160/160 [==============================] - 43s 270ms/step - loss: 2.0875 - accuracy: 0.4306 - val_loss: 3.0765 - val_accuracy: 0.3182\n",
      "Epoch 27/30\n",
      "160/160 [==============================] - 49s 305ms/step - loss: 2.0677 - accuracy: 0.4466 - val_loss: 3.1112 - val_accuracy: 0.3012\n",
      "Epoch 28/30\n",
      "160/160 [==============================] - 43s 267ms/step - loss: 2.0415 - accuracy: 0.4438 - val_loss: 3.0781 - val_accuracy: 0.3182\n",
      "Epoch 29/30\n",
      "160/160 [==============================] - 38s 238ms/step - loss: 2.0174 - accuracy: 0.4513 - val_loss: 3.1204 - val_accuracy: 0.3223\n",
      "Epoch 30/30\n",
      "160/160 [==============================] - 39s 241ms/step - loss: 2.0090 - accuracy: 0.4571 - val_loss: 3.1353 - val_accuracy: 0.3117\n"
     ]
    }
   ],
   "source": [
    "history= ft_model.fit_generator(generator=train_generator,\n",
    "                    validation_data=valid_generator,\n",
    "                    epochs=30)"
   ]
  },
  {
   "cell_type": "code",
   "execution_count": 47,
   "id": "645ac0c4",
   "metadata": {},
   "outputs": [
    {
     "data": {
      "image/png": "[encoded data removed]",
      "text/plain": [
       "<Figure size 432x288 with 1 Axes>"
      ]
     },
     "metadata": {
      "needs_background": "light"
     },
     "output_type": "display_data"
    }
   ],
   "source": [
    "def plot_history(history):\n",
    "  plt.figure()\n",
    "  plt.xlabel('Epoch')\n",
    "  plt.ylabel('Accuracy')\n",
    "  plt.plot(history.epoch, np.array(history.history['accuracy']),\n",
    "           label='Train accuracy')\n",
    "  plt.plot(history.epoch, np.array(history.history['val_accuracy']),\n",
    "           label = 'Val accuracy')\n",
    "  plt.legend()\n",
    "  plt.ylim([0, 1])\n",
    "\n",
    "plot_history(history)"
   ]
  },
  {
   "cell_type": "code",
   "execution_count": 48,
   "id": "fb00bca9",
   "metadata": {},
   "outputs": [
    {
     "data": {
      "image/png": "[encoded data removed]",
      "text/plain": [
       "<Figure size 432x288 with 1 Axes>"
      ]
     },
     "metadata": {
      "needs_background": "light"
     },
     "output_type": "display_data"
    }
   ],
   "source": [
    "def plot_history(history):\n",
    "  plt.figure()\n",
    "  plt.xlabel('Epoch')\n",
    "  plt.ylabel('Loss')\n",
    "  plt.plot(history.epoch, np.array(history.history['loss']),\n",
    "           label='Train loss')\n",
    "  plt.plot(history.epoch, np.array(history.history['val_loss']),\n",
    "           label = 'Val loss')\n",
    "  plt.legend()\n",
    "  plt.ylim([0, 10])\n",
    "\n",
    "plot_history(history)"
   ]
  },
  {
   "cell_type": "markdown",
   "id": "db705edc",
   "metadata": {},
   "source": [
    "### Model 3: Making pre-trained model trainable + Leraning Rate"
   ]
  },
  {
   "cell_type": "code",
   "execution_count": 49,
   "id": "e2b307de",
   "metadata": {},
   "outputs": [],
   "source": [
    "base_model.trainable = True\n",
    "\n",
    "ft_model.compile(optimizer=keras.optimizers.Adam(1e-5), \n",
    "              loss='sparse_categorical_crossentropy',\n",
    "              metrics=['accuracy'])"
   ]
  },
  {
   "cell_type": "code",
   "execution_count": 51,
   "id": "9fc95489",
   "metadata": {
    "scrolled": true
   },
   "outputs": [
    {
     "name": "stderr",
     "output_type": "stream",
     "text": [
      "/var/folders/pd/gpgs3lh15wx458zc6_s0w4100000gp/T/ipykernel_69257/218963487.py:1: UserWarning: `Model.fit_generator` is deprecated and will be removed in a future version. Please use `Model.fit`, which supports generators.\n",
      "  history= ft_model.fit_generator(generator=train_generator,\n"
     ]
    },
    {
     "name": "stdout",
     "output_type": "stream",
     "text": [
      "Epoch 1/30\n",
      "160/160 [==============================] - 76s 474ms/step - loss: 5.3962 - accuracy: 0.0973 - val_loss: 4.8877 - val_accuracy: 0.1231\n",
      "Epoch 2/30\n",
      "160/160 [==============================] - 78s 489ms/step - loss: 4.9165 - accuracy: 0.1008 - val_loss: 4.8109 - val_accuracy: 0.1174\n",
      "Epoch 3/30\n",
      "160/160 [==============================] - 74s 460ms/step - loss: 4.6117 - accuracy: 0.1061 - val_loss: 4.6121 - val_accuracy: 0.1304\n",
      "Epoch 4/30\n",
      "160/160 [==============================] - 75s 470ms/step - loss: 4.3560 - accuracy: 0.1123 - val_loss: 4.4236 - val_accuracy: 0.1360\n",
      "Epoch 5/30\n",
      "160/160 [==============================] - 72s 451ms/step - loss: 4.1753 - accuracy: 0.1252 - val_loss: 4.2485 - val_accuracy: 0.1498\n",
      "Epoch 6/30\n",
      "160/160 [==============================] - 73s 456ms/step - loss: 4.1290 - accuracy: 0.1201 - val_loss: 4.1839 - val_accuracy: 0.1538\n",
      "Epoch 7/30\n",
      "160/160 [==============================] - 87s 544ms/step - loss: 4.0240 - accuracy: 0.1293 - val_loss: 4.0658 - val_accuracy: 0.1636\n",
      "Epoch 8/30\n",
      "160/160 [==============================] - 79s 492ms/step - loss: 3.9532 - accuracy: 0.1350 - val_loss: 3.9901 - val_accuracy: 0.1676\n",
      "Epoch 9/30\n",
      "160/160 [==============================] - 76s 477ms/step - loss: 3.8870 - accuracy: 0.1426 - val_loss: 3.9407 - val_accuracy: 0.1765\n",
      "Epoch 10/30\n",
      "160/160 [==============================] - 81s 504ms/step - loss: 3.7889 - accuracy: 0.1563 - val_loss: 3.8874 - val_accuracy: 0.1814\n",
      "Epoch 11/30\n",
      "160/160 [==============================] - 74s 463ms/step - loss: 3.7755 - accuracy: 0.1565 - val_loss: 3.7929 - val_accuracy: 0.1862\n",
      "Epoch 12/30\n",
      "160/160 [==============================] - 75s 467ms/step - loss: 3.7243 - accuracy: 0.1616 - val_loss: 3.7351 - val_accuracy: 0.2032\n",
      "Epoch 13/30\n",
      "160/160 [==============================] - 73s 453ms/step - loss: 3.6233 - accuracy: 0.1768 - val_loss: 3.6865 - val_accuracy: 0.2105\n",
      "Epoch 14/30\n",
      "160/160 [==============================] - 75s 469ms/step - loss: 3.5742 - accuracy: 0.1828 - val_loss: 3.6698 - val_accuracy: 0.2130\n",
      "Epoch 15/30\n",
      "160/160 [==============================] - 73s 453ms/step - loss: 3.5734 - accuracy: 0.1854 - val_loss: 3.6269 - val_accuracy: 0.2121\n",
      "Epoch 16/30\n",
      "160/160 [==============================] - 74s 464ms/step - loss: 3.5039 - accuracy: 0.1909 - val_loss: 3.6158 - val_accuracy: 0.2211\n",
      "Epoch 17/30\n",
      "160/160 [==============================] - 74s 463ms/step - loss: 3.4759 - accuracy: 0.1967 - val_loss: 3.5533 - val_accuracy: 0.2300\n",
      "Epoch 18/30\n",
      "160/160 [==============================] - 83s 518ms/step - loss: 3.4393 - accuracy: 0.2061 - val_loss: 3.5295 - val_accuracy: 0.2324\n",
      "Epoch 19/30\n",
      "160/160 [==============================] - 75s 468ms/step - loss: 3.4002 - accuracy: 0.2170 - val_loss: 3.5016 - val_accuracy: 0.2324\n",
      "Epoch 20/30\n",
      "160/160 [==============================] - 74s 463ms/step - loss: 3.3293 - accuracy: 0.2229 - val_loss: 3.4654 - val_accuracy: 0.2324\n",
      "Epoch 21/30\n",
      "160/160 [==============================] - 73s 458ms/step - loss: 3.2938 - accuracy: 0.2303 - val_loss: 3.4359 - val_accuracy: 0.2405\n",
      "Epoch 22/30\n",
      "160/160 [==============================] - 74s 464ms/step - loss: 3.2893 - accuracy: 0.2291 - val_loss: 3.4156 - val_accuracy: 0.2462\n",
      "Epoch 23/30\n",
      "160/160 [==============================] - 76s 477ms/step - loss: 3.2306 - accuracy: 0.2399 - val_loss: 3.3978 - val_accuracy: 0.2510\n",
      "Epoch 24/30\n",
      "160/160 [==============================] - 74s 464ms/step - loss: 3.1865 - accuracy: 0.2385 - val_loss: 3.3448 - val_accuracy: 0.2591\n",
      "Epoch 25/30\n",
      "160/160 [==============================] - 77s 481ms/step - loss: 3.1433 - accuracy: 0.2520 - val_loss: 3.3506 - val_accuracy: 0.2526\n",
      "Epoch 26/30\n",
      "160/160 [==============================] - 85s 529ms/step - loss: 3.1436 - accuracy: 0.2563 - val_loss: 3.3385 - val_accuracy: 0.2575\n",
      "Epoch 27/30\n",
      "160/160 [==============================] - 79s 493ms/step - loss: 3.0669 - accuracy: 0.2637 - val_loss: 3.3013 - val_accuracy: 0.2534\n",
      "Epoch 28/30\n",
      "160/160 [==============================] - 75s 469ms/step - loss: 3.0321 - accuracy: 0.2670 - val_loss: 3.3130 - val_accuracy: 0.2696\n",
      "Epoch 29/30\n",
      "160/160 [==============================] - 75s 466ms/step - loss: 3.0271 - accuracy: 0.2762 - val_loss: 3.2564 - val_accuracy: 0.2656\n",
      "Epoch 30/30\n",
      "160/160 [==============================] - 76s 473ms/step - loss: 2.9945 - accuracy: 0.2764 - val_loss: 3.2247 - val_accuracy: 0.2729\n"
     ]
    }
   ],
   "source": [
    "history= ft_model.fit_generator(generator=train_generator,\n",
    "                    validation_data=valid_generator,\n",
    "                    epochs=30)"
   ]
  },
  {
   "cell_type": "code",
   "execution_count": 52,
   "id": "d53eefdf",
   "metadata": {},
   "outputs": [
    {
     "data": {
      "image/png": "[encoded data removed]",
      "text/plain": [
       "<Figure size 432x288 with 1 Axes>"
      ]
     },
     "metadata": {
      "needs_background": "light"
     },
     "output_type": "display_data"
    }
   ],
   "source": [
    "def plot_history(history):\n",
    "  plt.figure()\n",
    "  plt.xlabel('Epoch')\n",
    "  plt.ylabel('Accuracy')\n",
    "  plt.plot(history.epoch, np.array(history.history['accuracy']),\n",
    "           label='Train accuracy')\n",
    "  plt.plot(history.epoch, np.array(history.history['val_accuracy']),\n",
    "           label = 'Val accuracy')\n",
    "  plt.legend()\n",
    "  plt.ylim([0, 1])\n",
    "\n",
    "plot_history(history)"
   ]
  },
  {
   "cell_type": "code",
   "execution_count": 53,
   "id": "32441ffc",
   "metadata": {},
   "outputs": [
    {
     "data": {
      "image/png": "[encoded data removed]",
      "text/plain": [
       "<Figure size 432x288 with 1 Axes>"
      ]
     },
     "metadata": {
      "needs_background": "light"
     },
     "output_type": "display_data"
    }
   ],
   "source": [
    "def plot_history(history):\n",
    "  plt.figure()\n",
    "  plt.xlabel('Epoch')\n",
    "  plt.ylabel('Loss')\n",
    "  plt.plot(history.epoch, np.array(history.history['loss']),\n",
    "           label='Train loss')\n",
    "  plt.plot(history.epoch, np.array(history.history['val_loss']),\n",
    "           label = 'Val loss')\n",
    "  plt.legend()\n",
    "  plt.ylim([0, 10])\n",
    "\n",
    "plot_history(history)"
   ]
  }
 ],
 "metadata": {
  "kernelspec": {
   "display_name": "Python 3 (ipykernel)",
   "language": "python",
   "name": "python3"
  },
  "language_info": {
   "codemirror_mode": {
    "name": "ipython",
    "version": 3
   },
   "file_extension": ".py",
   "mimetype": "text/x-python",
   "name": "python",
   "nbconvert_exporter": "python",
   "pygments_lexer": "ipython3",
   "version": "3.9.7"
  }
 },
 "nbformat": 4,
 "nbformat_minor": 5
}
